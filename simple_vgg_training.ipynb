{
  "cells": [
    {
      "cell_type": "code",
      "execution_count": null,
      "metadata": {
        "id": "c7f95bb6-6a26-412c-b29c-1c426d48f138"
      },
      "outputs": [],
      "source": [
        "## Project -- Pruning on simple_vgg from LabGym\n",
        "## Part 1: Data preprocessing & Prepruning training"
      ],
      "id": "c7f95bb6-6a26-412c-b29c-1c426d48f138"
    },
    {
      "cell_type": "code",
      "execution_count": null,
      "metadata": {
        "id": "6a202f2b-58ef-47d9-9601-21270821a037"
      },
      "outputs": [],
      "source": [
        "## Installation"
      ],
      "id": "6a202f2b-58ef-47d9-9601-21270821a037"
    },
    {
      "cell_type": "code",
      "execution_count": null,
      "metadata": {
        "id": "5c019b82-4148-4111-9d57-f628f5621023"
      },
      "outputs": [],
      "source": [
        "import tensorflow as tf\n",
        "from tensorflow.keras.layers import Input, Conv2D, BatchNormalization, MaxPooling2D, Flatten, Dense, Dropout\n",
        "from tensorflow.keras.models import Model\n",
        "import cv2\n",
        "import os\n",
        "import numpy as np\n",
        "from sklearn.preprocessing import LabelEncoder\n",
        "from sklearn.model_selection import train_test_split\n",
        "from tensorflow.keras.callbacks import ModelCheckpoint,EarlyStopping,ReduceLROnPlateau\n",
        "from tensorflow.keras.optimizers import SGD\n",
        "from google.colab import files\n",
        "from tensorflow import keras\n",
        "from sklearn.metrics import accuracy_score"
      ],
      "id": "5c019b82-4148-4111-9d57-f628f5621023"
    },
    {
      "cell_type": "code",
      "source": [
        "## Connect GoogleDrive"
      ],
      "metadata": {
        "id": "EqJ2rMF-EEPZ"
      },
      "id": "EqJ2rMF-EEPZ",
      "execution_count": null,
      "outputs": []
    },
    {
      "cell_type": "code",
      "execution_count": null,
      "metadata": {
        "colab": {
          "base_uri": "https://localhost:8080/"
        },
        "id": "EcNYV1zVRMK7",
        "outputId": "6c339e7c-815f-4084-954d-3122d5189633"
      },
      "outputs": [
        {
          "output_type": "stream",
          "name": "stdout",
          "text": [
            "Mounted at /content/drive\n"
          ]
        }
      ],
      "source": [
        "from google.colab import drive\n",
        "drive.mount('/content/drive')"
      ],
      "id": "EcNYV1zVRMK7"
    },
    {
      "cell_type": "code",
      "execution_count": null,
      "metadata": {
        "id": "0059c5bd-e6e6-4aa9-914c-ece5f9cbf136"
      },
      "outputs": [],
      "source": [],
      "id": "0059c5bd-e6e6-4aa9-914c-ece5f9cbf136"
    },
    {
      "cell_type": "code",
      "execution_count": null,
      "metadata": {
        "id": "d6b50caa-edf9-453a-9b70-a6c340147fe4"
      },
      "outputs": [],
      "source": [
        "## Training data path"
      ],
      "id": "d6b50caa-edf9-453a-9b70-a6c340147fe4"
    },
    {
      "cell_type": "code",
      "execution_count": null,
      "metadata": {
        "id": "87b2dc44-9182-408a-9efc-60bc2a39c79d"
      },
      "outputs": [],
      "source": [
        "train_ds_path = '/content/drive/MyDrive/medium_train'"
      ],
      "id": "87b2dc44-9182-408a-9efc-60bc2a39c79d"
    },
    {
      "cell_type": "code",
      "execution_count": null,
      "metadata": {
        "id": "b52899c5-2b7c-4b28-821b-2d64ec14dbd4"
      },
      "outputs": [],
      "source": [],
      "id": "b52899c5-2b7c-4b28-821b-2d64ec14dbd4"
    },
    {
      "cell_type": "code",
      "execution_count": null,
      "metadata": {
        "id": "0f89d7c0-48f1-43f1-9e90-217051e0a42c"
      },
      "outputs": [],
      "source": [
        "## Define the function for data preprocessing"
      ],
      "id": "0f89d7c0-48f1-43f1-9e90-217051e0a42c"
    },
    {
      "cell_type": "code",
      "execution_count": null,
      "metadata": {
        "id": "39237637-beb0-4182-8c4d-c5ee610a09c8"
      },
      "outputs": [],
      "source": [
        "\n",
        "def preprocess_video(video_path, target_shape=(224, 224)):\n",
        "    cap = cv2.VideoCapture(video_path)\n",
        "    frames = []\n",
        "    while True:\n",
        "        ret, frame = cap.read()\n",
        "        if not ret:\n",
        "            break\n",
        "        frame = cv2.resize(frame, target_shape)\n",
        "        frames.append(frame)\n",
        "    cap.release()\n",
        "    return np.array(frames)\n",
        "\n",
        "\n"
      ],
      "id": "39237637-beb0-4182-8c4d-c5ee610a09c8"
    },
    {
      "cell_type": "code",
      "execution_count": null,
      "metadata": {
        "id": "b31f91d3-21b2-493d-8308-8640da622264"
      },
      "outputs": [],
      "source": [],
      "id": "b31f91d3-21b2-493d-8308-8640da622264"
    },
    {
      "cell_type": "code",
      "execution_count": null,
      "metadata": {
        "id": "b1069811-4c9c-4ed9-884a-68c5dee43d5c"
      },
      "outputs": [],
      "source": [
        "## Define the function for loading and preprocessing a folder of videos"
      ],
      "id": "b1069811-4c9c-4ed9-884a-68c5dee43d5c"
    },
    {
      "cell_type": "code",
      "execution_count": null,
      "metadata": {
        "id": "37fb706a-e792-4beb-9686-fe3d76dc6408"
      },
      "outputs": [],
      "source": [
        "\n",
        "def load_and_preprocess_videos(folder_path, target_shape=(224, 224)):\n",
        "    video_list = []\n",
        "    labels = []\n",
        "    for behavior_folder in os.listdir(folder_path):\n",
        "        behavior_path = os.path.join(folder_path, behavior_folder)\n",
        "        if not os.path.isdir(behavior_path):\n",
        "            continue\n",
        "        label = behavior_folder\n",
        "        for filename in os.listdir(behavior_path):\n",
        "            if filename.endswith(\".avi\"):\n",
        "                video_path = os.path.join(behavior_path, filename)\n",
        "                frames = preprocess_video(video_path, target_shape)\n",
        "                video_list.append(frames)\n",
        "                labels.append(label)\n",
        "    return np.array(video_list), np.array(labels)\n"
      ],
      "id": "37fb706a-e792-4beb-9686-fe3d76dc6408"
    },
    {
      "cell_type": "code",
      "execution_count": null,
      "metadata": {
        "id": "f178a029-2a97-4438-971f-84dc36a45d92"
      },
      "outputs": [],
      "source": [],
      "id": "f178a029-2a97-4438-971f-84dc36a45d92"
    },
    {
      "cell_type": "code",
      "execution_count": null,
      "metadata": {
        "id": "0f1e1481-3c09-45a1-a6c5-23509cc532a7"
      },
      "outputs": [],
      "source": [
        "# Define simple_vgg model"
      ],
      "id": "0f1e1481-3c09-45a1-a6c5-23509cc532a7"
    },
    {
      "cell_type": "code",
      "execution_count": null,
      "metadata": {
        "id": "d86cce0c-272b-4b05-aa41-b81c6af2a7de"
      },
      "outputs": [],
      "source": [
        "def simple_vgg(inputs, filters, classes=3, level=2, with_classifier=False):\n",
        "    if level < 2:\n",
        "        layers = [2]\n",
        "    elif level < 3:\n",
        "        layers = [2, 3]\n",
        "    elif level < 4:\n",
        "        layers = [2, 3, 4]\n",
        "    else:\n",
        "        layers = [2, 3, 4, 4]\n",
        "\n",
        "    x = inputs\n",
        "    for i in layers:\n",
        "        for n in range(i):\n",
        "            if n == 0:\n",
        "                if layers.index(i) == 0:\n",
        "                    x = Conv2D(filters, kernel_size=(3, 3), padding='same', activation='relu')(x)\n",
        "                    x = BatchNormalization()(x)\n",
        "                else:\n",
        "                    x = Conv2D(filters, kernel_size=(3, 3), padding='same', activation='relu')(x)\n",
        "                    x = BatchNormalization()(x)\n",
        "            else:\n",
        "                x = Conv2D(filters, kernel_size=(3, 3), padding='same', activation='relu')(x)\n",
        "                x = BatchNormalization()(x)\n",
        "        x = MaxPooling2D(pool_size=(2, 2))(x)\n",
        "        filters = int(filters * 2)\n",
        "\n",
        "    x = Flatten()(x)\n",
        "\n",
        "    if not with_classifier:\n",
        "        return x\n",
        "    else:\n",
        "        x = Dense(int(filters / 2), activation='relu')(x)\n",
        "        x = BatchNormalization()(x)\n",
        "        x = Dropout(0.5)(x)\n",
        "        if classes == 2:\n",
        "            x = Dense(1, activation='sigmoid')(x)\n",
        "        else:\n",
        "            x = Dense(classes, activation='softmax')(x)\n",
        "\n",
        "        model = Model(inputs=inputs, outputs=x)\n",
        "        return model\n"
      ],
      "id": "d86cce0c-272b-4b05-aa41-b81c6af2a7de"
    },
    {
      "cell_type": "code",
      "execution_count": null,
      "metadata": {
        "id": "d4f55a6c-255c-4725-8c55-13c256fdc92e"
      },
      "outputs": [],
      "source": [],
      "id": "d4f55a6c-255c-4725-8c55-13c256fdc92e"
    },
    {
      "cell_type": "code",
      "execution_count": null,
      "metadata": {
        "id": "2f916c7a-da2f-4260-b5dc-c376e3bbccfc"
      },
      "outputs": [],
      "source": [
        "# Define Hyperparameters"
      ],
      "id": "2f916c7a-da2f-4260-b5dc-c376e3bbccfc"
    },
    {
      "cell_type": "code",
      "execution_count": null,
      "metadata": {
        "id": "a7658927-4620-45b5-92f4-78b2d32856bc"
      },
      "outputs": [],
      "source": [
        "input_shape = (224, 224, 3)\n",
        "inputs = Input(shape=input_shape)\n",
        "epochs = 10\n",
        "batch_size = 32"
      ],
      "id": "a7658927-4620-45b5-92f4-78b2d32856bc"
    },
    {
      "cell_type": "code",
      "execution_count": null,
      "metadata": {
        "id": "4fc8f3e8-020c-4dad-9917-4fc16bf6b69d"
      },
      "outputs": [],
      "source": [],
      "id": "4fc8f3e8-020c-4dad-9917-4fc16bf6b69d"
    },
    {
      "cell_type": "code",
      "execution_count": null,
      "metadata": {
        "id": "af260cda-c54b-405a-aea6-d2a9450278fb"
      },
      "outputs": [],
      "source": [
        "# Create the model"
      ],
      "id": "af260cda-c54b-405a-aea6-d2a9450278fb"
    },
    {
      "cell_type": "code",
      "execution_count": null,
      "metadata": {
        "id": "a840e5e6-d9f4-42fa-8d2d-ffb4de4d13ae"
      },
      "outputs": [],
      "source": [
        "model = simple_vgg(inputs, filters=64, classes=3, level=2, with_classifier=True)"
      ],
      "id": "a840e5e6-d9f4-42fa-8d2d-ffb4de4d13ae"
    },
    {
      "cell_type": "code",
      "execution_count": null,
      "metadata": {
        "id": "ef55aac6-280c-4aed-893c-4ebee764c2f9"
      },
      "outputs": [],
      "source": [],
      "id": "ef55aac6-280c-4aed-893c-4ebee764c2f9"
    },
    {
      "cell_type": "code",
      "execution_count": null,
      "metadata": {
        "id": "31dad9e3-62b7-413d-b0aa-0b5873968a20"
      },
      "outputs": [],
      "source": [
        "# Display model summary"
      ],
      "id": "31dad9e3-62b7-413d-b0aa-0b5873968a20"
    },
    {
      "cell_type": "code",
      "execution_count": null,
      "metadata": {
        "colab": {
          "base_uri": "https://localhost:8080/"
        },
        "id": "b095379c-46f6-48ca-b3eb-1358e0837683",
        "outputId": "bbee9829-bbdb-4205-b0d6-7f5b727771bf"
      },
      "outputs": [
        {
          "output_type": "stream",
          "name": "stdout",
          "text": [
            "Model: \"model\"\n",
            "_________________________________________________________________\n",
            " Layer (type)                Output Shape              Param #   \n",
            "=================================================================\n",
            " input_1 (InputLayer)        [(None, 224, 224, 3)]     0         \n",
            "                                                                 \n",
            " conv2d (Conv2D)             (None, 224, 224, 64)      1792      \n",
            "                                                                 \n",
            " batch_normalization (Batch  (None, 224, 224, 64)      256       \n",
            " Normalization)                                                  \n",
            "                                                                 \n",
            " conv2d_1 (Conv2D)           (None, 224, 224, 64)      36928     \n",
            "                                                                 \n",
            " batch_normalization_1 (Bat  (None, 224, 224, 64)      256       \n",
            " chNormalization)                                                \n",
            "                                                                 \n",
            " max_pooling2d (MaxPooling2  (None, 112, 112, 64)      0         \n",
            " D)                                                              \n",
            "                                                                 \n",
            " conv2d_2 (Conv2D)           (None, 112, 112, 128)     73856     \n",
            "                                                                 \n",
            " batch_normalization_2 (Bat  (None, 112, 112, 128)     512       \n",
            " chNormalization)                                                \n",
            "                                                                 \n",
            " conv2d_3 (Conv2D)           (None, 112, 112, 128)     147584    \n",
            "                                                                 \n",
            " batch_normalization_3 (Bat  (None, 112, 112, 128)     512       \n",
            " chNormalization)                                                \n",
            "                                                                 \n",
            " conv2d_4 (Conv2D)           (None, 112, 112, 128)     147584    \n",
            "                                                                 \n",
            " batch_normalization_4 (Bat  (None, 112, 112, 128)     512       \n",
            " chNormalization)                                                \n",
            "                                                                 \n",
            " max_pooling2d_1 (MaxPoolin  (None, 56, 56, 128)       0         \n",
            " g2D)                                                            \n",
            "                                                                 \n",
            " flatten (Flatten)           (None, 401408)            0         \n",
            "                                                                 \n",
            " dense (Dense)               (None, 128)               51380352  \n",
            "                                                                 \n",
            " batch_normalization_5 (Bat  (None, 128)               512       \n",
            " chNormalization)                                                \n",
            "                                                                 \n",
            " dropout (Dropout)           (None, 128)               0         \n",
            "                                                                 \n",
            " dense_1 (Dense)             (None, 3)                 387       \n",
            "                                                                 \n",
            "=================================================================\n",
            "Total params: 51791043 (197.57 MB)\n",
            "Trainable params: 51789763 (197.56 MB)\n",
            "Non-trainable params: 1280 (5.00 KB)\n",
            "_________________________________________________________________\n"
          ]
        }
      ],
      "source": [
        "model.summary()"
      ],
      "id": "b095379c-46f6-48ca-b3eb-1358e0837683"
    },
    {
      "cell_type": "code",
      "execution_count": null,
      "metadata": {
        "id": "fdca6ec5-93a2-416a-ae0d-6c9fabf6a5eb"
      },
      "outputs": [],
      "source": [],
      "id": "fdca6ec5-93a2-416a-ae0d-6c9fabf6a5eb"
    },
    {
      "cell_type": "code",
      "execution_count": null,
      "metadata": {
        "id": "24ce51e1-f4df-48a1-90c1-553b0f50127a"
      },
      "outputs": [],
      "source": [
        "## Load and precess training data"
      ],
      "id": "24ce51e1-f4df-48a1-90c1-553b0f50127a"
    },
    {
      "cell_type": "code",
      "execution_count": null,
      "metadata": {
        "id": "59defe78-0cfc-4f79-a298-509470b7550e"
      },
      "outputs": [],
      "source": [
        "x, y = load_and_preprocess_videos(train_ds_path, target_shape=input_shape[:2])"
      ],
      "id": "59defe78-0cfc-4f79-a298-509470b7550e"
    },
    {
      "cell_type": "code",
      "execution_count": null,
      "metadata": {
        "colab": {
          "base_uri": "https://localhost:8080/"
        },
        "id": "b4f9140e-6185-4bf6-90df-c4f292817c0a",
        "outputId": "3f11dc04-dd04-4687-b889-6718d14b51de"
      },
      "outputs": [
        {
          "output_type": "stream",
          "name": "stdout",
          "text": [
            "16\n",
            "(12720, 224, 224, 3)\n",
            "(12720,)\n"
          ]
        }
      ],
      "source": [
        "print(x.shape[1])\n",
        "\n",
        "\n",
        "y = np.repeat(y, x.shape[1])\n",
        "\n",
        "x = x.reshape(-1, 224, 224, 3)\n",
        "\n",
        "print(x.shape)\n",
        "print(y.shape)"
      ],
      "id": "b4f9140e-6185-4bf6-90df-c4f292817c0a"
    },
    {
      "cell_type": "code",
      "source": [],
      "metadata": {
        "id": "SmjUz7tkF3xS"
      },
      "id": "SmjUz7tkF3xS",
      "execution_count": null,
      "outputs": []
    },
    {
      "cell_type": "code",
      "execution_count": null,
      "metadata": {
        "id": "4aac175a-2576-4d30-ab74-ec0f104eadf9"
      },
      "outputs": [],
      "source": [
        "# Encode behavior labels into numerical values"
      ],
      "id": "4aac175a-2576-4d30-ab74-ec0f104eadf9"
    },
    {
      "cell_type": "code",
      "execution_count": null,
      "metadata": {
        "colab": {
          "base_uri": "https://localhost:8080/"
        },
        "id": "99286b27-96c2-473d-8ef6-5ec5c1e30c1e",
        "outputId": "3aac7858-12a7-4ed1-d067-dc7da3460c24"
      },
      "outputs": [
        {
          "output_type": "stream",
          "name": "stdout",
          "text": [
            "[1 1 1 ... 2 2 2]\n"
          ]
        }
      ],
      "source": [
        "label_encoder = LabelEncoder()\n",
        "y_encoded = label_encoder.fit_transform(y)\n",
        "print(y_encoded)"
      ],
      "id": "99286b27-96c2-473d-8ef6-5ec5c1e30c1e"
    },
    {
      "cell_type": "code",
      "execution_count": null,
      "metadata": {
        "id": "33a3e157-73a5-45aa-b534-90997af54175"
      },
      "outputs": [],
      "source": [],
      "id": "33a3e157-73a5-45aa-b534-90997af54175"
    },
    {
      "cell_type": "code",
      "execution_count": null,
      "metadata": {
        "id": "a24c35c3-fef9-4d2b-b70c-e94335e28eb2"
      },
      "outputs": [],
      "source": [
        "# Split the data into training and validation sets"
      ],
      "id": "a24c35c3-fef9-4d2b-b70c-e94335e28eb2"
    },
    {
      "cell_type": "code",
      "execution_count": null,
      "metadata": {
        "id": "14cf03f4-8c65-459f-ab91-61d6f7e01c7b"
      },
      "outputs": [],
      "source": [
        "x_train, x_val, y_train, y_val = train_test_split(x, y_encoded, test_size=0.2, random_state=42)"
      ],
      "id": "14cf03f4-8c65-459f-ab91-61d6f7e01c7b"
    },
    {
      "cell_type": "code",
      "source": [],
      "metadata": {
        "id": "4FuIfOJLGcrd"
      },
      "id": "4FuIfOJLGcrd",
      "execution_count": null,
      "outputs": []
    },
    {
      "cell_type": "code",
      "source": [
        "# Set up callbacks"
      ],
      "metadata": {
        "id": "VlnUBl5WGcSO"
      },
      "id": "VlnUBl5WGcSO",
      "execution_count": null,
      "outputs": []
    },
    {
      "cell_type": "code",
      "execution_count": null,
      "metadata": {
        "id": "89474ee6-78be-402d-b1f3-7ab84e3dd690"
      },
      "outputs": [],
      "source": [
        "model_path=\"/content/drive/MyDrive/model\""
      ],
      "id": "89474ee6-78be-402d-b1f3-7ab84e3dd690"
    },
    {
      "cell_type": "code",
      "source": [
        "cp=ModelCheckpoint(model_path,monitor='val_loss',verbose=1,save_best_only=True,save_weights_only=False,mode='min',save_freq='epoch')\n",
        "es=EarlyStopping(monitor='val_loss',min_delta=0.001,mode='min',verbose=1,patience=4,restore_best_weights=True)\n",
        "rl=ReduceLROnPlateau(monitor='val_loss',min_delta=0.001,factor=0.2,patience=2,verbose=1,mode='min',min_learning_rate=1e-7)"
      ],
      "metadata": {
        "id": "JNyUSrwgRDxq"
      },
      "id": "JNyUSrwgRDxq",
      "execution_count": null,
      "outputs": []
    },
    {
      "cell_type": "code",
      "source": [],
      "metadata": {
        "id": "2flKOgTicfI_"
      },
      "id": "2flKOgTicfI_",
      "execution_count": null,
      "outputs": []
    },
    {
      "cell_type": "code",
      "source": [],
      "metadata": {
        "id": "fR_EtiuaQ0nx"
      },
      "execution_count": null,
      "outputs": [],
      "id": "fR_EtiuaQ0nx"
    },
    {
      "cell_type": "code",
      "execution_count": null,
      "metadata": {
        "id": "bcedaa46-bfc4-4d04-83b8-d84f9b4711e7"
      },
      "outputs": [],
      "source": [
        "# Train the model using the loaded and preprocessed data"
      ],
      "id": "bcedaa46-bfc4-4d04-83b8-d84f9b4711e7"
    },
    {
      "cell_type": "code",
      "source": [
        "model.compile(optimizer=SGD(learning_rate=1e-4,momentum=0.9), loss='sparse_categorical_crossentropy', metrics=['accuracy'])\n",
        "model.fit(x_train, y_train, epochs=epochs, batch_size=batch_size, validation_data=(x_val, y_val), callbacks=[cp,es,rl])"
      ],
      "metadata": {
        "colab": {
          "base_uri": "https://localhost:8080/"
        },
        "id": "zo7kTaAUPzjr",
        "outputId": "87396846-c852-4d4f-97fc-0eb30e86fdd2"
      },
      "id": "zo7kTaAUPzjr",
      "execution_count": null,
      "outputs": [
        {
          "output_type": "stream",
          "name": "stdout",
          "text": [
            "Epoch 1/10\n",
            "318/318 [==============================] - ETA: 0s - loss: 0.5928 - accuracy: 0.7801\n",
            "Epoch 1: val_loss improved from inf to 0.41354, saving model to /content/drive/MyDrive/model\n",
            "318/318 [==============================] - 181s 506ms/step - loss: 0.5928 - accuracy: 0.7801 - val_loss: 0.4135 - val_accuracy: 0.8314 - lr: 1.0000e-04\n",
            "Epoch 2/10\n",
            "318/318 [==============================] - ETA: 0s - loss: 0.2355 - accuracy: 0.9140\n",
            "Epoch 2: val_loss improved from 0.41354 to 0.19226, saving model to /content/drive/MyDrive/model\n",
            "318/318 [==============================] - 168s 530ms/step - loss: 0.2355 - accuracy: 0.9140 - val_loss: 0.1923 - val_accuracy: 0.9336 - lr: 1.0000e-04\n",
            "Epoch 3/10\n",
            "318/318 [==============================] - ETA: 0s - loss: 0.1517 - accuracy: 0.9514\n",
            "Epoch 3: val_loss improved from 0.19226 to 0.14622, saving model to /content/drive/MyDrive/model\n",
            "318/318 [==============================] - 165s 519ms/step - loss: 0.1517 - accuracy: 0.9514 - val_loss: 0.1462 - val_accuracy: 0.9532 - lr: 1.0000e-04\n",
            "Epoch 4/10\n",
            "318/318 [==============================] - ETA: 0s - loss: 0.1017 - accuracy: 0.9697\n",
            "Epoch 4: val_loss improved from 0.14622 to 0.14126, saving model to /content/drive/MyDrive/model\n",
            "318/318 [==============================] - 170s 534ms/step - loss: 0.1017 - accuracy: 0.9697 - val_loss: 0.1413 - val_accuracy: 0.9560 - lr: 1.0000e-04\n",
            "Epoch 5/10\n",
            "318/318 [==============================] - ETA: 0s - loss: 0.0796 - accuracy: 0.9785\n",
            "Epoch 5: val_loss improved from 0.14126 to 0.10389, saving model to /content/drive/MyDrive/model\n",
            "318/318 [==============================] - 184s 579ms/step - loss: 0.0796 - accuracy: 0.9785 - val_loss: 0.1039 - val_accuracy: 0.9689 - lr: 1.0000e-04\n",
            "Epoch 6/10\n",
            "318/318 [==============================] - ETA: 0s - loss: 0.0534 - accuracy: 0.9879\n",
            "Epoch 6: val_loss improved from 0.10389 to 0.09537, saving model to /content/drive/MyDrive/model\n",
            "318/318 [==============================] - 215s 678ms/step - loss: 0.0534 - accuracy: 0.9879 - val_loss: 0.0954 - val_accuracy: 0.9686 - lr: 1.0000e-04\n",
            "Epoch 7/10\n",
            "318/318 [==============================] - ETA: 0s - loss: 0.0477 - accuracy: 0.9881\n",
            "Epoch 7: val_loss did not improve from 0.09537\n",
            "318/318 [==============================] - 115s 360ms/step - loss: 0.0477 - accuracy: 0.9881 - val_loss: 0.0954 - val_accuracy: 0.9693 - lr: 1.0000e-04\n",
            "Epoch 8/10\n",
            "318/318 [==============================] - ETA: 0s - loss: 0.0380 - accuracy: 0.9917\n",
            "Epoch 8: val_loss improved from 0.09537 to 0.07724, saving model to /content/drive/MyDrive/model\n",
            "318/318 [==============================] - 271s 852ms/step - loss: 0.0380 - accuracy: 0.9917 - val_loss: 0.0772 - val_accuracy: 0.9756 - lr: 1.0000e-04\n",
            "Epoch 9/10\n",
            "318/318 [==============================] - ETA: 0s - loss: 0.0338 - accuracy: 0.9931\n",
            "Epoch 9: val_loss improved from 0.07724 to 0.07314, saving model to /content/drive/MyDrive/model\n",
            "318/318 [==============================] - 230s 724ms/step - loss: 0.0338 - accuracy: 0.9931 - val_loss: 0.0731 - val_accuracy: 0.9764 - lr: 1.0000e-04\n",
            "Epoch 10/10\n",
            "318/318 [==============================] - ETA: 0s - loss: 0.0277 - accuracy: 0.9946\n",
            "Epoch 10: val_loss did not improve from 0.07314\n",
            "318/318 [==============================] - 115s 360ms/step - loss: 0.0277 - accuracy: 0.9946 - val_loss: 0.1896 - val_accuracy: 0.9332 - lr: 1.0000e-04\n"
          ]
        },
        {
          "output_type": "execute_result",
          "data": {
            "text/plain": [
              "<keras.src.callbacks.History at 0x7d72e83e8fa0>"
            ]
          },
          "metadata": {},
          "execution_count": 32
        }
      ]
    },
    {
      "cell_type": "code",
      "source": [],
      "metadata": {
        "id": "kZ86HhUNals0"
      },
      "id": "kZ86HhUNals0",
      "execution_count": null,
      "outputs": []
    },
    {
      "cell_type": "code",
      "execution_count": null,
      "metadata": {
        "id": "78082838-977a-4f07-932c-fc86eecb1793"
      },
      "outputs": [],
      "source": [
        "# Clear session (effect not notieable)\n",
        "tf.keras.backend.clear_session()"
      ],
      "id": "78082838-977a-4f07-932c-fc86eecb1793"
    },
    {
      "cell_type": "code",
      "source": [],
      "metadata": {
        "id": "TEXLDDMGG7F2"
      },
      "id": "TEXLDDMGG7F2",
      "execution_count": null,
      "outputs": []
    },
    {
      "cell_type": "code",
      "execution_count": null,
      "metadata": {
        "id": "5b02ce8a-a1f0-408f-a8cc-9e057e860531"
      },
      "outputs": [],
      "source": [
        "# Save the trained model"
      ],
      "id": "5b02ce8a-a1f0-408f-a8cc-9e057e860531"
    },
    {
      "cell_type": "code",
      "execution_count": null,
      "metadata": {
        "id": "b21b01fe-d76a-4120-bb32-1fb18ffb9a5c"
      },
      "outputs": [],
      "source": [
        "#model.save('3classification_model.h5')"
      ],
      "id": "b21b01fe-d76a-4120-bb32-1fb18ffb9a5c"
    },
    {
      "cell_type": "code",
      "execution_count": null,
      "metadata": {
        "id": "e0aa9550-29ae-45dc-8f60-4cfee10eb14f"
      },
      "outputs": [],
      "source": [
        "model.save('3c_trained_model_simpleVgg.keras')\n",
        "## Save directly to googledrive\n",
        "# model.save('/content/drive/MyDrive/model_path/3c_trained_model_simpleVgg.keras')\n"
      ],
      "id": "e0aa9550-29ae-45dc-8f60-4cfee10eb14f"
    },
    {
      "cell_type": "code",
      "source": [],
      "metadata": {
        "id": "z86SHLdWRpY7"
      },
      "id": "z86SHLdWRpY7",
      "execution_count": null,
      "outputs": []
    },
    {
      "cell_type": "code",
      "source": [
        "## Download the model from colab"
      ],
      "metadata": {
        "id": "-oDFO1QUdSG9"
      },
      "id": "-oDFO1QUdSG9",
      "execution_count": null,
      "outputs": []
    },
    {
      "cell_type": "code",
      "source": [
        "files.download('3c_trained_model_simpleVgg.keras')"
      ],
      "metadata": {
        "colab": {
          "base_uri": "https://localhost:8080/",
          "height": 17
        },
        "id": "DkfPbJVbPEKE",
        "outputId": "8437af3a-1e77-4a89-e1a0-1a29864ee4f2"
      },
      "id": "DkfPbJVbPEKE",
      "execution_count": null,
      "outputs": [
        {
          "output_type": "display_data",
          "data": {
            "text/plain": [
              "<IPython.core.display.Javascript object>"
            ],
            "application/javascript": [
              "\n",
              "    async function download(id, filename, size) {\n",
              "      if (!google.colab.kernel.accessAllowed) {\n",
              "        return;\n",
              "      }\n",
              "      const div = document.createElement('div');\n",
              "      const label = document.createElement('label');\n",
              "      label.textContent = `Downloading \"${filename}\": `;\n",
              "      div.appendChild(label);\n",
              "      const progress = document.createElement('progress');\n",
              "      progress.max = size;\n",
              "      div.appendChild(progress);\n",
              "      document.body.appendChild(div);\n",
              "\n",
              "      const buffers = [];\n",
              "      let downloaded = 0;\n",
              "\n",
              "      const channel = await google.colab.kernel.comms.open(id);\n",
              "      // Send a message to notify the kernel that we're ready.\n",
              "      channel.send({})\n",
              "\n",
              "      for await (const message of channel.messages) {\n",
              "        // Send a message to notify the kernel that we're ready.\n",
              "        channel.send({})\n",
              "        if (message.buffers) {\n",
              "          for (const buffer of message.buffers) {\n",
              "            buffers.push(buffer);\n",
              "            downloaded += buffer.byteLength;\n",
              "            progress.value = downloaded;\n",
              "          }\n",
              "        }\n",
              "      }\n",
              "      const blob = new Blob(buffers, {type: 'application/binary'});\n",
              "      const a = document.createElement('a');\n",
              "      a.href = window.URL.createObjectURL(blob);\n",
              "      a.download = filename;\n",
              "      div.appendChild(a);\n",
              "      a.click();\n",
              "      div.remove();\n",
              "    }\n",
              "  "
            ]
          },
          "metadata": {}
        },
        {
          "output_type": "display_data",
          "data": {
            "text/plain": [
              "<IPython.core.display.Javascript object>"
            ],
            "application/javascript": [
              "download(\"download_6f4ecbdb-bb57-4650-875a-2d3c148002b1\", \"3c_trained_model_simpleVgg.keras\", 414405160)"
            ]
          },
          "metadata": {}
        }
      ]
    },
    {
      "cell_type": "code",
      "source": [],
      "metadata": {
        "id": "Z-7FZySXvR8H"
      },
      "id": "Z-7FZySXvR8H",
      "execution_count": null,
      "outputs": []
    },
    {
      "cell_type": "code",
      "source": [
        "## Load Test Data"
      ],
      "metadata": {
        "id": "EGG8q_uovRkD"
      },
      "id": "EGG8q_uovRkD",
      "execution_count": null,
      "outputs": []
    },
    {
      "cell_type": "code",
      "source": [
        "from google.colab import drive\n",
        "drive.mount('/content/drive')"
      ],
      "metadata": {
        "colab": {
          "base_uri": "https://localhost:8080/"
        },
        "id": "ncb9wAeguMov",
        "outputId": "304585d0-58d8-4e03-cb9c-1cd5d4b860fa"
      },
      "id": "ncb9wAeguMov",
      "execution_count": null,
      "outputs": [
        {
          "output_type": "stream",
          "name": "stdout",
          "text": [
            "Drive already mounted at /content/drive; to attempt to forcibly remount, call drive.mount(\"/content/drive\", force_remount=True).\n"
          ]
        }
      ]
    },
    {
      "cell_type": "code",
      "source": [
        "test_ds_path = '/content/drive/MyDrive/small_test'\n",
        "train_ds_path = '/content/drive/MyDrive/medium_train'"
      ],
      "metadata": {
        "id": "r8YzE3JqPf-G"
      },
      "id": "r8YzE3JqPf-G",
      "execution_count": null,
      "outputs": []
    },
    {
      "cell_type": "code",
      "source": [],
      "metadata": {
        "id": "VsrIB_x8IWdE"
      },
      "id": "VsrIB_x8IWdE",
      "execution_count": null,
      "outputs": []
    },
    {
      "cell_type": "code",
      "source": [
        "input_shape = (224, 224, 3)\n",
        "xt, yt = load_and_preprocess_videos(test_ds_path, target_shape=input_shape[:2])\n"
      ],
      "metadata": {
        "id": "eettGvB1tiFS"
      },
      "id": "eettGvB1tiFS",
      "execution_count": null,
      "outputs": []
    },
    {
      "cell_type": "code",
      "source": [
        "print(\"xt\", xt.shape)\n",
        "print(\"yt\", yt.shape)"
      ],
      "metadata": {
        "colab": {
          "base_uri": "https://localhost:8080/"
        },
        "id": "LHDzZjfgyRCA",
        "outputId": "8b75ffa8-4b3a-4fe3-b207-8eb9dfbee1a2"
      },
      "id": "LHDzZjfgyRCA",
      "execution_count": null,
      "outputs": [
        {
          "output_type": "stream",
          "name": "stdout",
          "text": [
            "xt (30, 15, 224, 224, 3)\n",
            "yt (30,)\n"
          ]
        }
      ]
    },
    {
      "cell_type": "code",
      "source": [
        "print(xt.shape[1])\n",
        "yt = np.repeat(yt, xt.shape[1])\n",
        "xt = xt.reshape(-1, 224, 224, 3)\n",
        "\n"
      ],
      "metadata": {
        "colab": {
          "base_uri": "https://localhost:8080/"
        },
        "id": "LExHQ7IHyDHo",
        "outputId": "9ee32cb2-0ff7-4855-f0d0-791fc47d3a18"
      },
      "id": "LExHQ7IHyDHo",
      "execution_count": null,
      "outputs": [
        {
          "output_type": "stream",
          "name": "stdout",
          "text": [
            "15\n"
          ]
        }
      ]
    },
    {
      "cell_type": "code",
      "source": [
        "print(\"xt\", xt.shape)\n",
        "print(\"yt\", yt.shape)"
      ],
      "metadata": {
        "colab": {
          "base_uri": "https://localhost:8080/"
        },
        "id": "Qg3tEkOp07S3",
        "outputId": "80912900-8bd0-41f2-bcca-2c17f3c311c6"
      },
      "id": "Qg3tEkOp07S3",
      "execution_count": null,
      "outputs": [
        {
          "output_type": "stream",
          "name": "stdout",
          "text": [
            "xt (450, 224, 224, 3)\n",
            "yt (450,)\n"
          ]
        }
      ]
    },
    {
      "cell_type": "code",
      "source": [
        "print(yt)"
      ],
      "metadata": {
        "colab": {
          "base_uri": "https://localhost:8080/"
        },
        "id": "Rk_fQ9lUFzar",
        "outputId": "b5968f57-fbab-41b5-bcae-3b203bb777e7"
      },
      "id": "Rk_fQ9lUFzar",
      "execution_count": null,
      "outputs": [
        {
          "output_type": "stream",
          "name": "stdout",
          "text": [
            "['crawling' 'crawling' 'crawling' 'crawling' 'crawling' 'crawling'\n",
            " 'crawling' 'crawling' 'crawling' 'crawling' 'crawling' 'crawling'\n",
            " 'crawling' 'crawling' 'crawling' 'crawling' 'crawling' 'crawling'\n",
            " 'crawling' 'crawling' 'crawling' 'crawling' 'crawling' 'crawling'\n",
            " 'crawling' 'crawling' 'crawling' 'crawling' 'crawling' 'crawling'\n",
            " 'crawling' 'crawling' 'crawling' 'crawling' 'crawling' 'crawling'\n",
            " 'crawling' 'crawling' 'crawling' 'crawling' 'crawling' 'crawling'\n",
            " 'crawling' 'crawling' 'crawling' 'crawling' 'crawling' 'crawling'\n",
            " 'crawling' 'crawling' 'crawling' 'crawling' 'crawling' 'crawling'\n",
            " 'crawling' 'crawling' 'crawling' 'crawling' 'crawling' 'crawling'\n",
            " 'crawling' 'crawling' 'crawling' 'crawling' 'crawling' 'crawling'\n",
            " 'crawling' 'crawling' 'crawling' 'crawling' 'crawling' 'crawling'\n",
            " 'crawling' 'crawling' 'crawling' 'crawling' 'crawling' 'crawling'\n",
            " 'crawling' 'crawling' 'crawling' 'crawling' 'crawling' 'crawling'\n",
            " 'crawling' 'crawling' 'crawling' 'crawling' 'crawling' 'crawling'\n",
            " 'crawling' 'crawling' 'crawling' 'crawling' 'crawling' 'crawling'\n",
            " 'crawling' 'crawling' 'crawling' 'crawling' 'crawling' 'crawling'\n",
            " 'crawling' 'crawling' 'crawling' 'crawling' 'crawling' 'crawling'\n",
            " 'crawling' 'crawling' 'crawling' 'crawling' 'crawling' 'crawling'\n",
            " 'crawling' 'crawling' 'crawling' 'crawling' 'crawling' 'crawling'\n",
            " 'crawling' 'crawling' 'crawling' 'crawling' 'crawling' 'crawling'\n",
            " 'crawling' 'crawling' 'crawling' 'crawling' 'crawling' 'crawling'\n",
            " 'crawling' 'crawling' 'crawling' 'crawling' 'crawling' 'crawling'\n",
            " 'crawling' 'crawling' 'crawling' 'crawling' 'crawling' 'crawling'\n",
            " 'crawling' 'crawling' 'crawling' 'crawling' 'crawling' 'crawling'\n",
            " 'turning' 'turning' 'turning' 'turning' 'turning' 'turning' 'turning'\n",
            " 'turning' 'turning' 'turning' 'turning' 'turning' 'turning' 'turning'\n",
            " 'turning' 'turning' 'turning' 'turning' 'turning' 'turning' 'turning'\n",
            " 'turning' 'turning' 'turning' 'turning' 'turning' 'turning' 'turning'\n",
            " 'turning' 'turning' 'turning' 'turning' 'turning' 'turning' 'turning'\n",
            " 'turning' 'turning' 'turning' 'turning' 'turning' 'turning' 'turning'\n",
            " 'turning' 'turning' 'turning' 'turning' 'turning' 'turning' 'turning'\n",
            " 'turning' 'turning' 'turning' 'turning' 'turning' 'turning' 'turning'\n",
            " 'turning' 'turning' 'turning' 'turning' 'turning' 'turning' 'turning'\n",
            " 'turning' 'turning' 'turning' 'turning' 'turning' 'turning' 'turning'\n",
            " 'turning' 'turning' 'turning' 'turning' 'turning' 'turning' 'turning'\n",
            " 'turning' 'turning' 'turning' 'turning' 'turning' 'turning' 'turning'\n",
            " 'turning' 'turning' 'turning' 'turning' 'turning' 'turning' 'turning'\n",
            " 'turning' 'turning' 'turning' 'turning' 'turning' 'turning' 'turning'\n",
            " 'turning' 'turning' 'turning' 'turning' 'turning' 'turning' 'turning'\n",
            " 'turning' 'turning' 'turning' 'turning' 'turning' 'turning' 'turning'\n",
            " 'turning' 'turning' 'turning' 'turning' 'turning' 'turning' 'turning'\n",
            " 'turning' 'turning' 'turning' 'turning' 'turning' 'turning' 'turning'\n",
            " 'turning' 'turning' 'turning' 'turning' 'turning' 'turning' 'turning'\n",
            " 'turning' 'turning' 'turning' 'turning' 'turning' 'turning' 'turning'\n",
            " 'turning' 'turning' 'turning' 'turning' 'turning' 'turning' 'turning'\n",
            " 'turning' 'turning' 'turning' 'rolling' 'rolling' 'rolling' 'rolling'\n",
            " 'rolling' 'rolling' 'rolling' 'rolling' 'rolling' 'rolling' 'rolling'\n",
            " 'rolling' 'rolling' 'rolling' 'rolling' 'rolling' 'rolling' 'rolling'\n",
            " 'rolling' 'rolling' 'rolling' 'rolling' 'rolling' 'rolling' 'rolling'\n",
            " 'rolling' 'rolling' 'rolling' 'rolling' 'rolling' 'rolling' 'rolling'\n",
            " 'rolling' 'rolling' 'rolling' 'rolling' 'rolling' 'rolling' 'rolling'\n",
            " 'rolling' 'rolling' 'rolling' 'rolling' 'rolling' 'rolling' 'rolling'\n",
            " 'rolling' 'rolling' 'rolling' 'rolling' 'rolling' 'rolling' 'rolling'\n",
            " 'rolling' 'rolling' 'rolling' 'rolling' 'rolling' 'rolling' 'rolling'\n",
            " 'rolling' 'rolling' 'rolling' 'rolling' 'rolling' 'rolling' 'rolling'\n",
            " 'rolling' 'rolling' 'rolling' 'rolling' 'rolling' 'rolling' 'rolling'\n",
            " 'rolling' 'rolling' 'rolling' 'rolling' 'rolling' 'rolling' 'rolling'\n",
            " 'rolling' 'rolling' 'rolling' 'rolling' 'rolling' 'rolling' 'rolling'\n",
            " 'rolling' 'rolling' 'rolling' 'rolling' 'rolling' 'rolling' 'rolling'\n",
            " 'rolling' 'rolling' 'rolling' 'rolling' 'rolling' 'rolling' 'rolling'\n",
            " 'rolling' 'rolling' 'rolling' 'rolling' 'rolling' 'rolling' 'rolling'\n",
            " 'rolling' 'rolling' 'rolling' 'rolling' 'rolling' 'rolling' 'rolling'\n",
            " 'rolling' 'rolling' 'rolling' 'rolling' 'rolling' 'rolling' 'rolling'\n",
            " 'rolling' 'rolling' 'rolling' 'rolling' 'rolling' 'rolling' 'rolling'\n",
            " 'rolling' 'rolling' 'rolling' 'rolling' 'rolling' 'rolling' 'rolling'\n",
            " 'rolling' 'rolling' 'rolling' 'rolling' 'rolling' 'rolling' 'rolling'\n",
            " 'rolling' 'rolling' 'rolling' 'rolling' 'rolling' 'rolling']\n"
          ]
        }
      ]
    },
    {
      "cell_type": "code",
      "source": [],
      "metadata": {
        "id": "cx3am92xIg7o"
      },
      "id": "cx3am92xIg7o",
      "execution_count": null,
      "outputs": []
    },
    {
      "cell_type": "code",
      "source": [
        "## Load model"
      ],
      "metadata": {
        "id": "250Ud4pIIguC"
      },
      "id": "250Ud4pIIguC",
      "execution_count": null,
      "outputs": []
    },
    {
      "cell_type": "code",
      "source": [
        "model_path = '/content/drive/MyDrive/trained_model/3c_trained_model_simpleVgg.keras'"
      ],
      "metadata": {
        "id": "tIXm3fkYCx7o"
      },
      "id": "tIXm3fkYCx7o",
      "execution_count": null,
      "outputs": []
    },
    {
      "cell_type": "code",
      "source": [
        "model = keras.models.load_model(model_path)\n"
      ],
      "metadata": {
        "id": "RsZMmF7Ktuef"
      },
      "id": "RsZMmF7Ktuef",
      "execution_count": null,
      "outputs": []
    },
    {
      "cell_type": "code",
      "source": [],
      "metadata": {
        "id": "MWiBaVs-Ij8h"
      },
      "id": "MWiBaVs-Ij8h",
      "execution_count": null,
      "outputs": []
    },
    {
      "cell_type": "code",
      "source": [
        "## Predict"
      ],
      "metadata": {
        "id": "MfGxw1shIju8"
      },
      "id": "MfGxw1shIju8",
      "execution_count": null,
      "outputs": []
    },
    {
      "cell_type": "code",
      "source": [
        "predictions = model.predict(xt)"
      ],
      "metadata": {
        "colab": {
          "base_uri": "https://localhost:8080/"
        },
        "id": "7kXOEF4Xt9M_",
        "outputId": "b7108b5c-8c9d-47dd-bca5-946c0829cd0f"
      },
      "id": "7kXOEF4Xt9M_",
      "execution_count": null,
      "outputs": [
        {
          "output_type": "stream",
          "name": "stdout",
          "text": [
            "15/15 [==============================] - 143s 9s/step\n"
          ]
        }
      ]
    },
    {
      "cell_type": "code",
      "source": [
        "print(predictions)"
      ],
      "metadata": {
        "colab": {
          "base_uri": "https://localhost:8080/"
        },
        "id": "te5K7OKv9112",
        "outputId": "412b9df2-7c8b-4454-c5b0-439c4b8de761"
      },
      "id": "te5K7OKv9112",
      "execution_count": null,
      "outputs": [
        {
          "output_type": "stream",
          "name": "stdout",
          "text": [
            "[[9.9945444e-01 3.6269674e-04 1.8292539e-04]\n",
            " [9.9964392e-01 1.3165106e-04 2.2437955e-04]\n",
            " [9.9883908e-01 6.6141227e-05 1.0949029e-03]\n",
            " ...\n",
            " [1.7919858e-03 9.9752885e-01 6.7908457e-04]\n",
            " [3.3291306e-03 9.9559826e-01 1.0727259e-03]\n",
            " [8.5180411e-03 9.8664480e-01 4.8371493e-03]]\n"
          ]
        }
      ]
    },
    {
      "cell_type": "code",
      "source": [],
      "metadata": {
        "id": "Uu7anKMYIoGm"
      },
      "id": "Uu7anKMYIoGm",
      "execution_count": null,
      "outputs": []
    },
    {
      "cell_type": "code",
      "source": [
        "## Create true label"
      ],
      "metadata": {
        "id": "ZaGtNXDHIpEb"
      },
      "id": "ZaGtNXDHIpEb",
      "execution_count": null,
      "outputs": []
    },
    {
      "cell_type": "code",
      "source": [
        "label_encoder = LabelEncoder()\n",
        "true_label_encoded = label_encoder.fit_transform(yt)"
      ],
      "metadata": {
        "id": "9Al0GOISF8TC"
      },
      "id": "9Al0GOISF8TC",
      "execution_count": null,
      "outputs": []
    },
    {
      "cell_type": "code",
      "source": [
        "print(true_label_encoded)"
      ],
      "metadata": {
        "colab": {
          "base_uri": "https://localhost:8080/"
        },
        "id": "nUWtBH0CF-rB",
        "outputId": "2465cb85-f9c8-4ed4-b102-7458a52b421d"
      },
      "id": "nUWtBH0CF-rB",
      "execution_count": null,
      "outputs": [
        {
          "output_type": "stream",
          "name": "stdout",
          "text": [
            "[0 0 0 0 0 0 0 0 0 0 0 0 0 0 0 0 0 0 0 0 0 0 0 0 0 0 0 0 0 0 0 0 0 0 0 0 0\n",
            " 0 0 0 0 0 0 0 0 0 0 0 0 0 0 0 0 0 0 0 0 0 0 0 0 0 0 0 0 0 0 0 0 0 0 0 0 0\n",
            " 0 0 0 0 0 0 0 0 0 0 0 0 0 0 0 0 0 0 0 0 0 0 0 0 0 0 0 0 0 0 0 0 0 0 0 0 0\n",
            " 0 0 0 0 0 0 0 0 0 0 0 0 0 0 0 0 0 0 0 0 0 0 0 0 0 0 0 0 0 0 0 0 0 0 0 0 0\n",
            " 0 0 2 2 2 2 2 2 2 2 2 2 2 2 2 2 2 2 2 2 2 2 2 2 2 2 2 2 2 2 2 2 2 2 2 2 2\n",
            " 2 2 2 2 2 2 2 2 2 2 2 2 2 2 2 2 2 2 2 2 2 2 2 2 2 2 2 2 2 2 2 2 2 2 2 2 2\n",
            " 2 2 2 2 2 2 2 2 2 2 2 2 2 2 2 2 2 2 2 2 2 2 2 2 2 2 2 2 2 2 2 2 2 2 2 2 2\n",
            " 2 2 2 2 2 2 2 2 2 2 2 2 2 2 2 2 2 2 2 2 2 2 2 2 2 2 2 2 2 2 2 2 2 2 2 2 2\n",
            " 2 2 2 2 1 1 1 1 1 1 1 1 1 1 1 1 1 1 1 1 1 1 1 1 1 1 1 1 1 1 1 1 1 1 1 1 1\n",
            " 1 1 1 1 1 1 1 1 1 1 1 1 1 1 1 1 1 1 1 1 1 1 1 1 1 1 1 1 1 1 1 1 1 1 1 1 1\n",
            " 1 1 1 1 1 1 1 1 1 1 1 1 1 1 1 1 1 1 1 1 1 1 1 1 1 1 1 1 1 1 1 1 1 1 1 1 1\n",
            " 1 1 1 1 1 1 1 1 1 1 1 1 1 1 1 1 1 1 1 1 1 1 1 1 1 1 1 1 1 1 1 1 1 1 1 1 1\n",
            " 1 1 1 1 1 1]\n"
          ]
        }
      ]
    },
    {
      "cell_type": "code",
      "source": [],
      "metadata": {
        "id": "gj0vQ1jnIugn"
      },
      "id": "gj0vQ1jnIugn",
      "execution_count": null,
      "outputs": []
    },
    {
      "cell_type": "code",
      "source": [
        "## Model accuracy"
      ],
      "metadata": {
        "id": "8ExcwR6JIvMX"
      },
      "id": "8ExcwR6JIvMX",
      "execution_count": null,
      "outputs": []
    },
    {
      "cell_type": "code",
      "source": [
        "accuracy = accuracy_score(true_label_encoded, predictions.argmax(axis=1))\n",
        "rounded_accuracy = round(accuracy, 2)\n",
        "print(f\"Accuracy: {accuracy}%\")"
      ],
      "metadata": {
        "colab": {
          "base_uri": "https://localhost:8080/"
        },
        "id": "qLmzRmo-AIad",
        "outputId": "16f15ab7-9d63-42ee-ce9e-6191696b401b"
      },
      "id": "qLmzRmo-AIad",
      "execution_count": null,
      "outputs": [
        {
          "output_type": "stream",
          "name": "stdout",
          "text": [
            "Accuracy: 0.7711111111111111\n"
          ]
        }
      ]
    }
  ],
  "metadata": {
    "accelerator": "GPU",
    "colab": {
      "provenance": []
    },
    "kernelspec": {
      "display_name": "Python 3",
      "name": "python3"
    },
    "language_info": {
      "codemirror_mode": {
        "name": "ipython",
        "version": 3
      },
      "file_extension": ".py",
      "mimetype": "text/x-python",
      "name": "python",
      "nbconvert_exporter": "python",
      "pygments_lexer": "ipython3",
      "version": "3.9.18"
    }
  },
  "nbformat": 4,
  "nbformat_minor": 5
}